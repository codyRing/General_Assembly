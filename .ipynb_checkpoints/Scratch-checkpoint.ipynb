{
 "cells": [
  {
   "cell_type": "code",
   "execution_count": 39,
   "metadata": {},
   "outputs": [],
   "source": [
    "def products(bottom,top):\n",
    "    results = []\n",
    "    tops = list(range(bottom,top))\n",
    "    bots = list(range(bottom,top))\n",
    "    for t in tops:\n",
    "        for b in bots:\n",
    "            result = b * t\n",
    "            results.append(result)\n",
    "            results= list(dict.fromkeys(results))\n",
    "            results= sorted(results)\n",
    "    return results\n",
    "\n",
    "test_int = products(12,100)\n",
    "#test_int"
   ]
  },
  {
   "cell_type": "code",
   "execution_count": 46,
   "metadata": {},
   "outputs": [],
   "source": [
    "#def check_palindrome(forward):\n",
    "    answers = []\n",
    "    #back = list(reversed(forward))\n",
    "    back = forward[::-1]\n",
    "    if back == forward:\n",
    "        #print(forward + \" is a Palindrome!\")\n",
    "        answers.append(int(forward))\n",
    "        \n",
    "    #else:\n",
    "        #print(forward + \" Not a Palindrome :-(\")\n",
    "        #diction.update(forward,'_')\n",
    "        #return None \n",
    "    return answers   "
   ]
  },
  {
   "cell_type": "code",
   "execution_count": 47,
   "metadata": {},
   "outputs": [],
   "source": [
    "for t in test_int:\n",
    "    check_palindrome(str(t))"
   ]
  },
  {
   "cell_type": "code",
   "execution_count": 49,
   "metadata": {},
   "outputs": [],
   "source": [
    "def products(bottom,top):\n",
    "    results = []\n",
    "    tops = list(range(bottom,top))\n",
    "    bots = list(range(bottom,top))\n",
    "    for t in tops:\n",
    "        for b in bots:\n",
    "            result = b * t\n",
    "            print(b,\" * \",t,\" equals \",result)\n",
    "    return results"
   ]
  },
  {
   "cell_type": "code",
   "execution_count": 50,
   "metadata": {},
   "outputs": [
    {
     "name": "stdout",
     "output_type": "stream",
     "text": [
      "100  *  100  equals  10000\n",
      "101  *  100  equals  10100\n",
      "102  *  100  equals  10200\n",
      "103  *  100  equals  10300\n",
      "104  *  100  equals  10400\n",
      "105  *  100  equals  10500\n",
      "106  *  100  equals  10600\n",
      "107  *  100  equals  10700\n",
      "108  *  100  equals  10800\n",
      "109  *  100  equals  10900\n",
      "100  *  101  equals  10100\n",
      "101  *  101  equals  10201\n",
      "102  *  101  equals  10302\n",
      "103  *  101  equals  10403\n",
      "104  *  101  equals  10504\n",
      "105  *  101  equals  10605\n",
      "106  *  101  equals  10706\n",
      "107  *  101  equals  10807\n",
      "108  *  101  equals  10908\n",
      "109  *  101  equals  11009\n",
      "100  *  102  equals  10200\n",
      "101  *  102  equals  10302\n",
      "102  *  102  equals  10404\n",
      "103  *  102  equals  10506\n",
      "104  *  102  equals  10608\n",
      "105  *  102  equals  10710\n",
      "106  *  102  equals  10812\n",
      "107  *  102  equals  10914\n",
      "108  *  102  equals  11016\n",
      "109  *  102  equals  11118\n",
      "100  *  103  equals  10300\n",
      "101  *  103  equals  10403\n",
      "102  *  103  equals  10506\n",
      "103  *  103  equals  10609\n",
      "104  *  103  equals  10712\n",
      "105  *  103  equals  10815\n",
      "106  *  103  equals  10918\n",
      "107  *  103  equals  11021\n",
      "108  *  103  equals  11124\n",
      "109  *  103  equals  11227\n",
      "100  *  104  equals  10400\n",
      "101  *  104  equals  10504\n",
      "102  *  104  equals  10608\n",
      "103  *  104  equals  10712\n",
      "104  *  104  equals  10816\n",
      "105  *  104  equals  10920\n",
      "106  *  104  equals  11024\n",
      "107  *  104  equals  11128\n",
      "108  *  104  equals  11232\n",
      "109  *  104  equals  11336\n",
      "100  *  105  equals  10500\n",
      "101  *  105  equals  10605\n",
      "102  *  105  equals  10710\n",
      "103  *  105  equals  10815\n",
      "104  *  105  equals  10920\n",
      "105  *  105  equals  11025\n",
      "106  *  105  equals  11130\n",
      "107  *  105  equals  11235\n",
      "108  *  105  equals  11340\n",
      "109  *  105  equals  11445\n",
      "100  *  106  equals  10600\n",
      "101  *  106  equals  10706\n",
      "102  *  106  equals  10812\n",
      "103  *  106  equals  10918\n",
      "104  *  106  equals  11024\n",
      "105  *  106  equals  11130\n",
      "106  *  106  equals  11236\n",
      "107  *  106  equals  11342\n",
      "108  *  106  equals  11448\n",
      "109  *  106  equals  11554\n",
      "100  *  107  equals  10700\n",
      "101  *  107  equals  10807\n",
      "102  *  107  equals  10914\n",
      "103  *  107  equals  11021\n",
      "104  *  107  equals  11128\n",
      "105  *  107  equals  11235\n",
      "106  *  107  equals  11342\n",
      "107  *  107  equals  11449\n",
      "108  *  107  equals  11556\n",
      "109  *  107  equals  11663\n",
      "100  *  108  equals  10800\n",
      "101  *  108  equals  10908\n",
      "102  *  108  equals  11016\n",
      "103  *  108  equals  11124\n",
      "104  *  108  equals  11232\n",
      "105  *  108  equals  11340\n",
      "106  *  108  equals  11448\n",
      "107  *  108  equals  11556\n",
      "108  *  108  equals  11664\n",
      "109  *  108  equals  11772\n",
      "100  *  109  equals  10900\n",
      "101  *  109  equals  11009\n",
      "102  *  109  equals  11118\n",
      "103  *  109  equals  11227\n",
      "104  *  109  equals  11336\n",
      "105  *  109  equals  11445\n",
      "106  *  109  equals  11554\n",
      "107  *  109  equals  11663\n",
      "108  *  109  equals  11772\n",
      "109  *  109  equals  11881\n"
     ]
    },
    {
     "data": {
      "text/plain": [
       "[]"
      ]
     },
     "execution_count": 50,
     "metadata": {},
     "output_type": "execute_result"
    }
   ],
   "source": [
    "products(100,110)"
   ]
  },
  {
   "cell_type": "code",
   "execution_count": 52,
   "metadata": {},
   "outputs": [
    {
     "name": "stdout",
     "output_type": "stream",
     "text": [
      "The sum of all prime numbers between 1 and 2000 is:\n"
     ]
    },
    {
     "data": {
      "text/plain": [
       "363436487"
      ]
     },
     "execution_count": 52,
     "metadata": {},
     "output_type": "execute_result"
    }
   ],
   "source": [
    "lower = 1\n",
    "upper = 2000\n",
    "answers = []\n",
    "for num in range(lower,upper +1):\n",
    "    #number must be greater than 1\n",
    "    if num > 1:\n",
    "        for i in range(2,num):\n",
    "            # num cannot be evenly divided by integers (2,n-1)\n",
    "            if (num % i) == 0:\n",
    "                break\n",
    "            else:\n",
    "                #meet both above condition and add it to a list\n",
    "                answers.append(int(num))\n",
    "print (\"The sum of all prime numbers between\",lower,\"and\",upper,\"is:\")\n",
    "sum(answers)"
   ]
  },
  {
   "cell_type": "code",
   "execution_count": null,
   "metadata": {},
   "outputs": [],
   "source": []
  }
 ],
 "metadata": {
  "kernelspec": {
   "display_name": "Python 3",
   "language": "python",
   "name": "python3"
  },
  "language_info": {
   "codemirror_mode": {
    "name": "ipython",
    "version": 3
   },
   "file_extension": ".py",
   "mimetype": "text/x-python",
   "name": "python",
   "nbconvert_exporter": "python",
   "pygments_lexer": "ipython3",
   "version": "3.7.3"
  }
 },
 "nbformat": 4,
 "nbformat_minor": 2
}
